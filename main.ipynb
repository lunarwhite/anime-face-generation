{
 "metadata": {
  "language_info": {
   "codemirror_mode": {
    "name": "ipython",
    "version": 3
   },
   "file_extension": ".py",
   "mimetype": "text/x-python",
   "name": "python",
   "nbconvert_exporter": "python",
   "pygments_lexer": "ipython3",
   "version": "3.7.10"
  },
  "orig_nbformat": 2,
  "kernelspec": {
   "name": "python3710jvsc74a57bd08681b76890e1411fba0074f6428a3ae47ebbe2a79781986059f4c22089916953",
   "display_name": "Python 3.7.10 64-bit ('mytest': conda)"
  },
  "metadata": {
   "interpreter": {
    "hash": "8681b76890e1411fba0074f6428a3ae47ebbe2a79781986059f4c22089916953"
   }
  }
 },
 "nbformat": 4,
 "nbformat_minor": 2,
 "cells": [
  {
   "cell_type": "code",
   "execution_count": 1,
   "metadata": {},
   "outputs": [],
   "source": [
    "import os\n",
    "os.environ['TF_CPP_MIN_LOG_LEVEL'] = '2'\n",
    "os.environ[\"TF_FORCE_GPU_ALLOW_GROWTH\"] = \"true\"\n",
    "os.environ[\"CUDA_VISIBLE_DEVICES\"] = '0'"
   ]
  },
  {
   "cell_type": "code",
   "execution_count": 2,
   "metadata": {},
   "outputs": [],
   "source": [
    "import numpy as np\n",
    "from PIL import Image"
   ]
  },
  {
   "cell_type": "code",
   "execution_count": 7,
   "metadata": {},
   "outputs": [],
   "source": [
    "# 读取extra_data中的图片，并保存\n",
    "x_train = np.empty((36740, 64, 64, 3), dtype=\"float32\")\n",
    "images = os.listdir('./res/image/')\n",
    "\n",
    "lens = len(images)\n",
    "for i in range(lens):\n",
    "    img = Image.open('./res/image/' + images[i])\n",
    "    arr = np.asarray(img, dtype=\"float32\")\n",
    "    x_train[i, :, :, :] = arr"
   ]
  },
  {
   "cell_type": "code",
   "execution_count": 9,
   "metadata": {},
   "outputs": [],
   "source": [
    "batch_size=32\n",
    "sample_interval=20\n",
    "epochs=30"
   ]
  },
  {
   "cell_type": "code",
   "execution_count": 10,
   "metadata": {},
   "outputs": [],
   "source": [
    "# 归一化\n",
    "x_train = x_train / 127.5 - 1.\n",
    "\n",
    "# 图像数据的判别值为1\n",
    "valid = np.ones((batch_size, 1))\n",
    "\n",
    "# 生成图像的判别值为0\n",
    "fake = np.zeros((batch_size, 1))"
   ]
  },
  {
   "cell_type": "code",
   "execution_count": 11,
   "metadata": {},
   "outputs": [],
   "source": [
    "# 图像尺寸\n",
    "img_rows = 64\n",
    "img_cols = 64\n",
    "channels = 3\n",
    "img_shape = (img_rows, img_cols, channels)\n",
    "latent_dim = 100"
   ]
  },
  {
   "cell_type": "code",
   "execution_count": null,
   "metadata": {},
   "outputs": [],
   "source": [
    "import matplotlib.pyplot as plt\n",
    "import keras\n",
    "from keras.layers import Input, Dense, Reshape, Flatten, Dropout\n",
    "from keras.layers import BatchNormalization, Activation, ZeroPadding2D\n",
    "from keras.layers.convolutional import UpSampling2D, Conv2D\n",
    "from keras.models import Sequential, Model\n",
    "from keras.optimizers import Adam\n",
    "\n",
    "# 优化器，使用Adam算法优化\n",
    "optimizer = Adam(0.0002, 0.5)"
   ]
  },
  {
   "cell_type": "code",
   "execution_count": null,
   "metadata": {},
   "outputs": [],
   "source": [
    "# 生成器\n",
    "# 序列模型\n",
    "model_g = Sequential()\n",
    "\n",
    "model_g.add(Dense(128 * 16 * 16, activation=\"relu\", input_dim=self.latent_dim))\n",
    "model_g.add(Reshape((16, 16, 128)))\n",
    "\n",
    "# 上采样，将图像放大一倍\n",
    "model)g.add(UpSampling2D())\n",
    "model_g.add(Conv2D(128, kernel_size=4, padding=\"same\"))\n",
    "model_g.add(Activation(\"relu\"))\n",
    "model_g.add(UpSampling2D())\n",
    "model_g.add(Conv2D(64, kernel_size=4, padding=\"same\"))\n",
    "model_g.add(Activation(\"relu\"))\n",
    "model_.add(Conv2D(3, kernel_size=4, padding=\"same\"))\n",
    "model.add(Activation(\"tanh\"))\n",
    "# model.summary()\n",
    "\n",
    "noise = Input(shape=(self.latent_dim,))\n",
    "img = model(noise)\n",
    "\n",
    "Model(noise, img)"
   ]
  },
  {
   "cell_type": "code",
   "execution_count": null,
   "metadata": {},
   "outputs": [],
   "source": [
    "# 判别器\n",
    "model = Sequential()\n",
    "\n",
    "model.add(Conv2D(32, kernel_size=4, input_shape=(64, 64, 3), padding=\"same\"))\n",
    "model.add(Activation(\"relu\"))\n",
    "model.add(Conv2D(64, kernel_size=4, padding=\"same\"))\n",
    "# model.add(ZeroPadding2D())\n",
    "model.add(Activation(\"relu\"))\n",
    "model.add(Conv2D(128, kernel_size=4, padding=\"same\"))\n",
    "model.add(Activation(\"relu\"))\n",
    "model.add(Conv2D(256, kernel_size=4, padding=\"same\"))\n",
    "model.add(Activation(\"relu\"))\n",
    "model.add(Flatten())\n",
    "model.add(Dense(1, activation=\"sigmoid\"))\n",
    "# model.summary()\n",
    "\n",
    "img = Input(shape=self.img_shape)\n",
    "validity = model(img)\n",
    "\n",
    "Model(img, validity)"
   ]
  },
  {
   "cell_type": "code",
   "execution_count": null,
   "metadata": {},
   "outputs": [],
   "source": [
    "# 判别器编译\n",
    "self.discriminator.compile(loss=\"binary_crossentropy\", optimizer=optimizer, metrics=[\"accuracy\"])\n",
    "\n",
    "# z是噪声，送入生成器生成图像\n",
    "z = Input(shape=(self.latent_dim,))\n",
    "img = self.generator(z)\n",
    "\n",
    "# 固定判别器，训练生成器（这里不太清楚）\n",
    "self.discriminator.trainable = False\n",
    "\n",
    "# 将生成器生成的图像传入判别器判断\n",
    "validity = self.discriminator(img)\n",
    "\n",
    "# 结合生成器和判别器（这里不太清楚）\n",
    "self.combined = Model(z, validity)\n",
    "self.combined.compile(loss=\"binary_crossentropy\", optimizer=optimizer)"
   ]
  },
  {
   "cell_type": "code",
   "execution_count": null,
   "metadata": {},
   "outputs": [],
   "source": [
    "for epoch in range(epochs):\n",
    "    # ---------------------\n",
    "    #  Train Discriminator\n",
    "    # ---------------------\n",
    "    # 随机选取一个batch的图像送入训练\n",
    "    idx = np.random.randint(0, x_train.shape[0], batch_size)\n",
    "    images = x_train[idx]\n",
    "\n",
    "    # 产生噪声，生成图像\n",
    "    noise = np.random.normal(0, 1, (batch_size, self.latent_dim))\n",
    "    gen_images = self.generator.predict(noise)\n",
    "\n",
    "    # 训练判别器\n",
    "    d_loss_real = self.discriminator.train_on_batch(images, valid)\n",
    "    d_loss_fake = self.discriminator.train_on_batch(gen_images, fake)\n",
    "    d_loss = 0.5 * np.add(d_loss_real, d_loss_fake)\n",
    "\n",
    "    # ---------------------\n",
    "    #  Train Generator\n",
    "    # ---------------------\n",
    "    noise = np.random.normal(0, 1, (batch_size, self.latent_dim))\n",
    "    g_loss = self.combined.train_on_batch(noise, valid)\n",
    "\n",
    "    print(\"%d [D loss: %f, acc.: %.2f%%] [G loss: %f]\" % (epoch, d_loss[0], 100 * d_loss[1], g_loss))\n",
    "\n",
    "    # 保存图像\n",
    "    if epoch % sample_interval == 0:\n",
    "        self.sample_images(epoch)"
   ]
  },
  {
   "cell_type": "code",
   "execution_count": null,
   "metadata": {},
   "outputs": [],
   "source": [
    "# 保存生成结果\n",
    "def sample_images(self, epoch):\n",
    "r, c = 5, 5\n",
    "noise = np.random.normal(0, 1, (r * c, self.latent_dim))\n",
    "gen_imgs = self.generator.predict(noise)\n",
    "\n",
    "# Rescale images 0 - 1\n",
    "gen_imgs = 0.5 * gen_imgs + 0.5\n",
    "\n",
    "fig, axs = plt.subplots(r, c)\n",
    "cnt = 0\n",
    "for i in range(r):\n",
    "    for j in range(c):\n",
    "        axs[i, j].imshow(gen_imgs[cnt, :, :, :])\n",
    "        axs[i, j].axis('off')\n",
    "        cnt += 1\n",
    "fig.savefig(\"images/%d.png\" % epoch)\n",
    "plt.close()"
   ]
  }
 ]
}